{
  "nbformat": 4,
  "nbformat_minor": 0,
  "metadata": {
    "colab": {
      "provenance": []
    },
    "kernelspec": {
      "name": "python3",
      "display_name": "Python 3"
    },
    "language_info": {
      "name": "python"
    }
  },
  "cells": [
    {
      "cell_type": "code",
      "source": [
        "df_start = pd.read_csv('/content/df_9_after_cleansing.csv')\n",
        "df_start.info()"
      ],
      "metadata": {
        "colab": {
          "base_uri": "https://localhost:8080/"
        },
        "id": "vkcU0PS07hFE",
        "outputId": "9cfd5110-b11e-4a31-c661-34ed87320bcc"
      },
      "execution_count": 8,
      "outputs": [
        {
          "output_type": "stream",
          "name": "stdout",
          "text": [
            "<class 'pandas.core.frame.DataFrame'>\n",
            "RangeIndex: 2973 entries, 0 to 2972\n",
            "Data columns (total 11 columns):\n",
            " #   Column            Non-Null Count  Dtype  \n",
            "---  ------            --------------  -----  \n",
            " 0   Unnamed: 0        2973 non-null   int64  \n",
            " 1   Date              2973 non-null   object \n",
            " 2   Journal           2971 non-null   object \n",
            " 3   Title             2973 non-null   object \n",
            " 4   Name              2973 non-null   object \n",
            " 5   wavelength_added  2973 non-null   float64\n",
            " 6   RI                2973 non-null   float64\n",
            " 7   DOI_alt           2973 non-null   object \n",
            " 8   SMILES            2973 non-null   object \n",
            " 9   Method_ord        2973 non-null   int64  \n",
            " 10  Publisher_ord     2973 non-null   int64  \n",
            "dtypes: float64(2), int64(3), object(6)\n",
            "memory usage: 255.6+ KB\n"
          ]
        }
      ]
    },
    {
      "cell_type": "markdown",
      "source": [
        "# RDkit descriptors"
      ],
      "metadata": {
        "id": "po6g75EuB2zv"
      }
    },
    {
      "cell_type": "code",
      "source": [
        "!pip install rdkit"
      ],
      "metadata": {
        "colab": {
          "base_uri": "https://localhost:8080/"
        },
        "id": "L2zVk4Z1vBAh",
        "outputId": "14a488fa-f6cd-46e0-8f7d-86fc6264f5dc"
      },
      "execution_count": 4,
      "outputs": [
        {
          "output_type": "stream",
          "name": "stdout",
          "text": [
            "Looking in indexes: https://pypi.org/simple, https://us-python.pkg.dev/colab-wheels/public/simple/\n",
            "Requirement already satisfied: rdkit in /usr/local/lib/python3.9/dist-packages (2022.9.5)\n",
            "Requirement already satisfied: numpy in /usr/local/lib/python3.9/dist-packages (from rdkit) (1.22.4)\n",
            "Requirement already satisfied: Pillow in /usr/local/lib/python3.9/dist-packages (from rdkit) (8.4.0)\n"
          ]
        }
      ]
    },
    {
      "cell_type": "code",
      "source": [
        "from rdkit.Chem import Descriptors, MolFromSmiles"
      ],
      "metadata": {
        "id": "ao3w8MIQwSFc"
      },
      "execution_count": 4,
      "outputs": []
    },
    {
      "cell_type": "code",
      "source": [
        "#convert smiles to mol object\n",
        "df_start['mol'] = df_start['SMILES'].apply(lambda x: MolFromSmiles(x))"
      ],
      "metadata": {
        "id": "YmGmCyuR7cNj"
      },
      "execution_count": null,
      "outputs": []
    },
    {
      "cell_type": "code",
      "source": [
        "Descriptors.descList"
      ],
      "metadata": {
        "id": "_djEJSoPuKYt"
      },
      "execution_count": null,
      "outputs": []
    },
    {
      "cell_type": "code",
      "source": [
        "for i,j in tqdm(Descriptors.descList):\n",
        "    df_start[i] = df_start['mol'].map(j)"
      ],
      "metadata": {
        "id": "vxyee3rSwUkM"
      },
      "execution_count": null,
      "outputs": []
    },
    {
      "cell_type": "markdown",
      "source": [
        "# PADELpy descriptors"
      ],
      "metadata": {
        "id": "44FG474LCM7j"
      }
    },
    {
      "cell_type": "code",
      "source": [
        "!pip install padelpy"
      ],
      "metadata": {
        "colab": {
          "base_uri": "https://localhost:8080/"
        },
        "id": "B0Kofg2oxWiQ",
        "outputId": "70341349-e611-43a7-8712-3fc711b98134"
      },
      "execution_count": 2,
      "outputs": [
        {
          "output_type": "stream",
          "name": "stdout",
          "text": [
            "Looking in indexes: https://pypi.org/simple, https://us-python.pkg.dev/colab-wheels/public/simple/\n",
            "Collecting padelpy\n",
            "  Downloading padelpy-0.1.13-py2.py3-none-any.whl (20.9 MB)\n",
            "\u001b[2K     \u001b[90m━━━━━━━━━━━━━━━━━━━━━━━━━━━━━━━━━━━━━━━━\u001b[0m \u001b[32m20.9/20.9 MB\u001b[0m \u001b[31m48.8 MB/s\u001b[0m eta \u001b[36m0:00:00\u001b[0m\n",
            "\u001b[?25hInstalling collected packages: padelpy\n",
            "Successfully installed padelpy-0.1.13\n"
          ]
        }
      ]
    },
    {
      "cell_type": "code",
      "source": [
        "from padelpy import from_smiles"
      ],
      "metadata": {
        "id": "YIILY2ZhxVA9"
      },
      "execution_count": 3,
      "outputs": []
    },
    {
      "cell_type": "code",
      "source": [
        "padel_list =list(from_smiles('CC').keys())"
      ],
      "metadata": {
        "id": "DMpNefnNxVgs"
      },
      "execution_count": 4,
      "outputs": []
    },
    {
      "cell_type": "code",
      "source": [
        "#search descriptors only for unique smiles\n",
        "df_short = df_start.groupby(['SMILES'], as_index = False).mean()\n",
        "df_short"
      ],
      "metadata": {
        "colab": {
          "base_uri": "https://localhost:8080/",
          "height": 423
        },
        "id": "udouQtIsmeEo",
        "outputId": "ee7736e2-88cb-49a5-c75a-fafbbeb044c0"
      },
      "execution_count": 9,
      "outputs": [
        {
          "output_type": "execute_result",
          "data": {
            "text/plain": [
              "               SMILES  Unnamed: 0  wavelength_added      RI  Method_ord  \\\n",
              "0                  *C     1556.00             589.0  1.3749        0.00   \n",
              "1                 *CC      914.00             589.0  1.4800        0.00   \n",
              "2                 B#N     3814.00             560.0  1.4686        0.00   \n",
              "3              B#[Sb]     2791.00             589.0  3.3500        0.00   \n",
              "4               B#[V]      139.00             589.0  1.3420        0.00   \n",
              "..                ...         ...               ...     ...         ...   \n",
              "860              [Tm]      650.50             589.0  2.4105        0.50   \n",
              "861              [Xe]     1537.00             589.0  1.3400        1.00   \n",
              "862  [Zn+2].[I-].[I-]     4944.00             589.0  1.6200        2.00   \n",
              "863         [Zn]=[Se]     2815.20             589.0  2.4526        1.60   \n",
              "864         [Zn]=[Te]     3418.75             589.0  2.7600        0.75   \n",
              "\n",
              "     Publisher_ord  \n",
              "0              0.0  \n",
              "1              0.0  \n",
              "2              0.0  \n",
              "3              0.0  \n",
              "4              0.0  \n",
              "..             ...  \n",
              "860            0.0  \n",
              "861            0.0  \n",
              "862            2.0  \n",
              "863            0.0  \n",
              "864            0.0  \n",
              "\n",
              "[865 rows x 6 columns]"
            ],
            "text/html": [
              "\n",
              "  <div id=\"df-8d3acee3-1170-4631-bf30-1e674e2f231d\">\n",
              "    <div class=\"colab-df-container\">\n",
              "      <div>\n",
              "<style scoped>\n",
              "    .dataframe tbody tr th:only-of-type {\n",
              "        vertical-align: middle;\n",
              "    }\n",
              "\n",
              "    .dataframe tbody tr th {\n",
              "        vertical-align: top;\n",
              "    }\n",
              "\n",
              "    .dataframe thead th {\n",
              "        text-align: right;\n",
              "    }\n",
              "</style>\n",
              "<table border=\"1\" class=\"dataframe\">\n",
              "  <thead>\n",
              "    <tr style=\"text-align: right;\">\n",
              "      <th></th>\n",
              "      <th>SMILES</th>\n",
              "      <th>Unnamed: 0</th>\n",
              "      <th>wavelength_added</th>\n",
              "      <th>RI</th>\n",
              "      <th>Method_ord</th>\n",
              "      <th>Publisher_ord</th>\n",
              "    </tr>\n",
              "  </thead>\n",
              "  <tbody>\n",
              "    <tr>\n",
              "      <th>0</th>\n",
              "      <td>*C</td>\n",
              "      <td>1556.00</td>\n",
              "      <td>589.0</td>\n",
              "      <td>1.3749</td>\n",
              "      <td>0.00</td>\n",
              "      <td>0.0</td>\n",
              "    </tr>\n",
              "    <tr>\n",
              "      <th>1</th>\n",
              "      <td>*CC</td>\n",
              "      <td>914.00</td>\n",
              "      <td>589.0</td>\n",
              "      <td>1.4800</td>\n",
              "      <td>0.00</td>\n",
              "      <td>0.0</td>\n",
              "    </tr>\n",
              "    <tr>\n",
              "      <th>2</th>\n",
              "      <td>B#N</td>\n",
              "      <td>3814.00</td>\n",
              "      <td>560.0</td>\n",
              "      <td>1.4686</td>\n",
              "      <td>0.00</td>\n",
              "      <td>0.0</td>\n",
              "    </tr>\n",
              "    <tr>\n",
              "      <th>3</th>\n",
              "      <td>B#[Sb]</td>\n",
              "      <td>2791.00</td>\n",
              "      <td>589.0</td>\n",
              "      <td>3.3500</td>\n",
              "      <td>0.00</td>\n",
              "      <td>0.0</td>\n",
              "    </tr>\n",
              "    <tr>\n",
              "      <th>4</th>\n",
              "      <td>B#[V]</td>\n",
              "      <td>139.00</td>\n",
              "      <td>589.0</td>\n",
              "      <td>1.3420</td>\n",
              "      <td>0.00</td>\n",
              "      <td>0.0</td>\n",
              "    </tr>\n",
              "    <tr>\n",
              "      <th>...</th>\n",
              "      <td>...</td>\n",
              "      <td>...</td>\n",
              "      <td>...</td>\n",
              "      <td>...</td>\n",
              "      <td>...</td>\n",
              "      <td>...</td>\n",
              "    </tr>\n",
              "    <tr>\n",
              "      <th>860</th>\n",
              "      <td>[Tm]</td>\n",
              "      <td>650.50</td>\n",
              "      <td>589.0</td>\n",
              "      <td>2.4105</td>\n",
              "      <td>0.50</td>\n",
              "      <td>0.0</td>\n",
              "    </tr>\n",
              "    <tr>\n",
              "      <th>861</th>\n",
              "      <td>[Xe]</td>\n",
              "      <td>1537.00</td>\n",
              "      <td>589.0</td>\n",
              "      <td>1.3400</td>\n",
              "      <td>1.00</td>\n",
              "      <td>0.0</td>\n",
              "    </tr>\n",
              "    <tr>\n",
              "      <th>862</th>\n",
              "      <td>[Zn+2].[I-].[I-]</td>\n",
              "      <td>4944.00</td>\n",
              "      <td>589.0</td>\n",
              "      <td>1.6200</td>\n",
              "      <td>2.00</td>\n",
              "      <td>2.0</td>\n",
              "    </tr>\n",
              "    <tr>\n",
              "      <th>863</th>\n",
              "      <td>[Zn]=[Se]</td>\n",
              "      <td>2815.20</td>\n",
              "      <td>589.0</td>\n",
              "      <td>2.4526</td>\n",
              "      <td>1.60</td>\n",
              "      <td>0.0</td>\n",
              "    </tr>\n",
              "    <tr>\n",
              "      <th>864</th>\n",
              "      <td>[Zn]=[Te]</td>\n",
              "      <td>3418.75</td>\n",
              "      <td>589.0</td>\n",
              "      <td>2.7600</td>\n",
              "      <td>0.75</td>\n",
              "      <td>0.0</td>\n",
              "    </tr>\n",
              "  </tbody>\n",
              "</table>\n",
              "<p>865 rows × 6 columns</p>\n",
              "</div>\n",
              "      <button class=\"colab-df-convert\" onclick=\"convertToInteractive('df-8d3acee3-1170-4631-bf30-1e674e2f231d')\"\n",
              "              title=\"Convert this dataframe to an interactive table.\"\n",
              "              style=\"display:none;\">\n",
              "        \n",
              "  <svg xmlns=\"http://www.w3.org/2000/svg\" height=\"24px\"viewBox=\"0 0 24 24\"\n",
              "       width=\"24px\">\n",
              "    <path d=\"M0 0h24v24H0V0z\" fill=\"none\"/>\n",
              "    <path d=\"M18.56 5.44l.94 2.06.94-2.06 2.06-.94-2.06-.94-.94-2.06-.94 2.06-2.06.94zm-11 1L8.5 8.5l.94-2.06 2.06-.94-2.06-.94L8.5 2.5l-.94 2.06-2.06.94zm10 10l.94 2.06.94-2.06 2.06-.94-2.06-.94-.94-2.06-.94 2.06-2.06.94z\"/><path d=\"M17.41 7.96l-1.37-1.37c-.4-.4-.92-.59-1.43-.59-.52 0-1.04.2-1.43.59L10.3 9.45l-7.72 7.72c-.78.78-.78 2.05 0 2.83L4 21.41c.39.39.9.59 1.41.59.51 0 1.02-.2 1.41-.59l7.78-7.78 2.81-2.81c.8-.78.8-2.07 0-2.86zM5.41 20L4 18.59l7.72-7.72 1.47 1.35L5.41 20z\"/>\n",
              "  </svg>\n",
              "      </button>\n",
              "      \n",
              "  <style>\n",
              "    .colab-df-container {\n",
              "      display:flex;\n",
              "      flex-wrap:wrap;\n",
              "      gap: 12px;\n",
              "    }\n",
              "\n",
              "    .colab-df-convert {\n",
              "      background-color: #E8F0FE;\n",
              "      border: none;\n",
              "      border-radius: 50%;\n",
              "      cursor: pointer;\n",
              "      display: none;\n",
              "      fill: #1967D2;\n",
              "      height: 32px;\n",
              "      padding: 0 0 0 0;\n",
              "      width: 32px;\n",
              "    }\n",
              "\n",
              "    .colab-df-convert:hover {\n",
              "      background-color: #E2EBFA;\n",
              "      box-shadow: 0px 1px 2px rgba(60, 64, 67, 0.3), 0px 1px 3px 1px rgba(60, 64, 67, 0.15);\n",
              "      fill: #174EA6;\n",
              "    }\n",
              "\n",
              "    [theme=dark] .colab-df-convert {\n",
              "      background-color: #3B4455;\n",
              "      fill: #D2E3FC;\n",
              "    }\n",
              "\n",
              "    [theme=dark] .colab-df-convert:hover {\n",
              "      background-color: #434B5C;\n",
              "      box-shadow: 0px 1px 3px 1px rgba(0, 0, 0, 0.15);\n",
              "      filter: drop-shadow(0px 1px 2px rgba(0, 0, 0, 0.3));\n",
              "      fill: #FFFFFF;\n",
              "    }\n",
              "  </style>\n",
              "\n",
              "      <script>\n",
              "        const buttonEl =\n",
              "          document.querySelector('#df-8d3acee3-1170-4631-bf30-1e674e2f231d button.colab-df-convert');\n",
              "        buttonEl.style.display =\n",
              "          google.colab.kernel.accessAllowed ? 'block' : 'none';\n",
              "\n",
              "        async function convertToInteractive(key) {\n",
              "          const element = document.querySelector('#df-8d3acee3-1170-4631-bf30-1e674e2f231d');\n",
              "          const dataTable =\n",
              "            await google.colab.kernel.invokeFunction('convertToInteractive',\n",
              "                                                     [key], {});\n",
              "          if (!dataTable) return;\n",
              "\n",
              "          const docLinkHtml = 'Like what you see? Visit the ' +\n",
              "            '<a target=\"_blank\" href=https://colab.research.google.com/notebooks/data_table.ipynb>data table notebook</a>'\n",
              "            + ' to learn more about interactive tables.';\n",
              "          element.innerHTML = '';\n",
              "          dataTable['output_type'] = 'display_data';\n",
              "          await google.colab.output.renderOutput(dataTable, element);\n",
              "          const docLink = document.createElement('div');\n",
              "          docLink.innerHTML = docLinkHtml;\n",
              "          element.appendChild(docLink);\n",
              "        }\n",
              "      </script>\n",
              "    </div>\n",
              "  </div>\n",
              "  "
            ]
          },
          "metadata": {},
          "execution_count": 9
        }
      ]
    },
    {
      "cell_type": "code",
      "source": [
        "#5 hours\n",
        "df_padel = pd.DataFrame(columns = padel_list)\n",
        "for i, _ in tqdm(df_short.iterrows()):\n",
        "  try:\n",
        "    df_padel = pd.concat([df_padel, pd.DataFrame(from_smiles(df_short['SMILES'][i]), index = [df_short['SMILES'][i]])])\n",
        "  except:\n",
        "    df_padel = pd.concat([df_padel, pd.DataFrame(np.nan, columns = padel_list, index = [df_short['SMILES'][i]])])"
      ],
      "metadata": {
        "colab": {
          "base_uri": "https://localhost:8080/"
        },
        "id": "4TG7mogWz-Ix",
        "outputId": "91664392-1e45-4c04-da7f-a481e4492a32"
      },
      "execution_count": 10,
      "outputs": [
        {
          "output_type": "stream",
          "name": "stderr",
          "text": [
            "865it [5:07:33, 21.33s/it]\n"
          ]
        }
      ]
    },
    {
      "cell_type": "code",
      "source": [
        "df_padel.describe()"
      ],
      "metadata": {
        "colab": {
          "base_uri": "https://localhost:8080/",
          "height": 204
        },
        "id": "uApfwopJ1zJm",
        "outputId": "0da7eb0c-da5d-42d8-c0b3-e65191149f8c"
      },
      "execution_count": 15,
      "outputs": [
        {
          "output_type": "execute_result",
          "data": {
            "text/plain": [
              "       nAcid ALogP ALogp2  AMR                apol naAromAtom nAromBond nAtom  \\\n",
              "count    789   789    789  789                 789        789       789   789   \n",
              "unique     5   541    541  540                 703         19        16    88   \n",
              "top        0                    18.561515999999997          0         0     5   \n",
              "freq     703   178    178  178                   7        651       651    76   \n",
              "\n",
              "       nHeavyAtom   nH  ...  P1s  P2s  E1s  E2s  E3s   Ts   As   Vs   Ks   Ds  \n",
              "count         789  789  ...  789  789  789  789  789  789  789  789  789  789  \n",
              "unique         55   58  ...  420  421  423  423  412  423  423  423  419  418  \n",
              "top             5    0  ...                                                    \n",
              "freq           98  230  ...  366  366  366  366  371  366  366  366  366  371  \n",
              "\n",
              "[4 rows x 1875 columns]"
            ],
            "text/html": [
              "\n",
              "  <div id=\"df-ef6a2174-2999-4764-9134-69ab0b9381aa\">\n",
              "    <div class=\"colab-df-container\">\n",
              "      <div>\n",
              "<style scoped>\n",
              "    .dataframe tbody tr th:only-of-type {\n",
              "        vertical-align: middle;\n",
              "    }\n",
              "\n",
              "    .dataframe tbody tr th {\n",
              "        vertical-align: top;\n",
              "    }\n",
              "\n",
              "    .dataframe thead th {\n",
              "        text-align: right;\n",
              "    }\n",
              "</style>\n",
              "<table border=\"1\" class=\"dataframe\">\n",
              "  <thead>\n",
              "    <tr style=\"text-align: right;\">\n",
              "      <th></th>\n",
              "      <th>nAcid</th>\n",
              "      <th>ALogP</th>\n",
              "      <th>ALogp2</th>\n",
              "      <th>AMR</th>\n",
              "      <th>apol</th>\n",
              "      <th>naAromAtom</th>\n",
              "      <th>nAromBond</th>\n",
              "      <th>nAtom</th>\n",
              "      <th>nHeavyAtom</th>\n",
              "      <th>nH</th>\n",
              "      <th>...</th>\n",
              "      <th>P1s</th>\n",
              "      <th>P2s</th>\n",
              "      <th>E1s</th>\n",
              "      <th>E2s</th>\n",
              "      <th>E3s</th>\n",
              "      <th>Ts</th>\n",
              "      <th>As</th>\n",
              "      <th>Vs</th>\n",
              "      <th>Ks</th>\n",
              "      <th>Ds</th>\n",
              "    </tr>\n",
              "  </thead>\n",
              "  <tbody>\n",
              "    <tr>\n",
              "      <th>count</th>\n",
              "      <td>789</td>\n",
              "      <td>789</td>\n",
              "      <td>789</td>\n",
              "      <td>789</td>\n",
              "      <td>789</td>\n",
              "      <td>789</td>\n",
              "      <td>789</td>\n",
              "      <td>789</td>\n",
              "      <td>789</td>\n",
              "      <td>789</td>\n",
              "      <td>...</td>\n",
              "      <td>789</td>\n",
              "      <td>789</td>\n",
              "      <td>789</td>\n",
              "      <td>789</td>\n",
              "      <td>789</td>\n",
              "      <td>789</td>\n",
              "      <td>789</td>\n",
              "      <td>789</td>\n",
              "      <td>789</td>\n",
              "      <td>789</td>\n",
              "    </tr>\n",
              "    <tr>\n",
              "      <th>unique</th>\n",
              "      <td>5</td>\n",
              "      <td>541</td>\n",
              "      <td>541</td>\n",
              "      <td>540</td>\n",
              "      <td>703</td>\n",
              "      <td>19</td>\n",
              "      <td>16</td>\n",
              "      <td>88</td>\n",
              "      <td>55</td>\n",
              "      <td>58</td>\n",
              "      <td>...</td>\n",
              "      <td>420</td>\n",
              "      <td>421</td>\n",
              "      <td>423</td>\n",
              "      <td>423</td>\n",
              "      <td>412</td>\n",
              "      <td>423</td>\n",
              "      <td>423</td>\n",
              "      <td>423</td>\n",
              "      <td>419</td>\n",
              "      <td>418</td>\n",
              "    </tr>\n",
              "    <tr>\n",
              "      <th>top</th>\n",
              "      <td>0</td>\n",
              "      <td></td>\n",
              "      <td></td>\n",
              "      <td></td>\n",
              "      <td>18.561515999999997</td>\n",
              "      <td>0</td>\n",
              "      <td>0</td>\n",
              "      <td>5</td>\n",
              "      <td>5</td>\n",
              "      <td>0</td>\n",
              "      <td>...</td>\n",
              "      <td></td>\n",
              "      <td></td>\n",
              "      <td></td>\n",
              "      <td></td>\n",
              "      <td></td>\n",
              "      <td></td>\n",
              "      <td></td>\n",
              "      <td></td>\n",
              "      <td></td>\n",
              "      <td></td>\n",
              "    </tr>\n",
              "    <tr>\n",
              "      <th>freq</th>\n",
              "      <td>703</td>\n",
              "      <td>178</td>\n",
              "      <td>178</td>\n",
              "      <td>178</td>\n",
              "      <td>7</td>\n",
              "      <td>651</td>\n",
              "      <td>651</td>\n",
              "      <td>76</td>\n",
              "      <td>98</td>\n",
              "      <td>230</td>\n",
              "      <td>...</td>\n",
              "      <td>366</td>\n",
              "      <td>366</td>\n",
              "      <td>366</td>\n",
              "      <td>366</td>\n",
              "      <td>371</td>\n",
              "      <td>366</td>\n",
              "      <td>366</td>\n",
              "      <td>366</td>\n",
              "      <td>366</td>\n",
              "      <td>371</td>\n",
              "    </tr>\n",
              "  </tbody>\n",
              "</table>\n",
              "<p>4 rows × 1875 columns</p>\n",
              "</div>\n",
              "      <button class=\"colab-df-convert\" onclick=\"convertToInteractive('df-ef6a2174-2999-4764-9134-69ab0b9381aa')\"\n",
              "              title=\"Convert this dataframe to an interactive table.\"\n",
              "              style=\"display:none;\">\n",
              "        \n",
              "  <svg xmlns=\"http://www.w3.org/2000/svg\" height=\"24px\"viewBox=\"0 0 24 24\"\n",
              "       width=\"24px\">\n",
              "    <path d=\"M0 0h24v24H0V0z\" fill=\"none\"/>\n",
              "    <path d=\"M18.56 5.44l.94 2.06.94-2.06 2.06-.94-2.06-.94-.94-2.06-.94 2.06-2.06.94zm-11 1L8.5 8.5l.94-2.06 2.06-.94-2.06-.94L8.5 2.5l-.94 2.06-2.06.94zm10 10l.94 2.06.94-2.06 2.06-.94-2.06-.94-.94-2.06-.94 2.06-2.06.94z\"/><path d=\"M17.41 7.96l-1.37-1.37c-.4-.4-.92-.59-1.43-.59-.52 0-1.04.2-1.43.59L10.3 9.45l-7.72 7.72c-.78.78-.78 2.05 0 2.83L4 21.41c.39.39.9.59 1.41.59.51 0 1.02-.2 1.41-.59l7.78-7.78 2.81-2.81c.8-.78.8-2.07 0-2.86zM5.41 20L4 18.59l7.72-7.72 1.47 1.35L5.41 20z\"/>\n",
              "  </svg>\n",
              "      </button>\n",
              "      \n",
              "  <style>\n",
              "    .colab-df-container {\n",
              "      display:flex;\n",
              "      flex-wrap:wrap;\n",
              "      gap: 12px;\n",
              "    }\n",
              "\n",
              "    .colab-df-convert {\n",
              "      background-color: #E8F0FE;\n",
              "      border: none;\n",
              "      border-radius: 50%;\n",
              "      cursor: pointer;\n",
              "      display: none;\n",
              "      fill: #1967D2;\n",
              "      height: 32px;\n",
              "      padding: 0 0 0 0;\n",
              "      width: 32px;\n",
              "    }\n",
              "\n",
              "    .colab-df-convert:hover {\n",
              "      background-color: #E2EBFA;\n",
              "      box-shadow: 0px 1px 2px rgba(60, 64, 67, 0.3), 0px 1px 3px 1px rgba(60, 64, 67, 0.15);\n",
              "      fill: #174EA6;\n",
              "    }\n",
              "\n",
              "    [theme=dark] .colab-df-convert {\n",
              "      background-color: #3B4455;\n",
              "      fill: #D2E3FC;\n",
              "    }\n",
              "\n",
              "    [theme=dark] .colab-df-convert:hover {\n",
              "      background-color: #434B5C;\n",
              "      box-shadow: 0px 1px 3px 1px rgba(0, 0, 0, 0.15);\n",
              "      filter: drop-shadow(0px 1px 2px rgba(0, 0, 0, 0.3));\n",
              "      fill: #FFFFFF;\n",
              "    }\n",
              "  </style>\n",
              "\n",
              "      <script>\n",
              "        const buttonEl =\n",
              "          document.querySelector('#df-ef6a2174-2999-4764-9134-69ab0b9381aa button.colab-df-convert');\n",
              "        buttonEl.style.display =\n",
              "          google.colab.kernel.accessAllowed ? 'block' : 'none';\n",
              "\n",
              "        async function convertToInteractive(key) {\n",
              "          const element = document.querySelector('#df-ef6a2174-2999-4764-9134-69ab0b9381aa');\n",
              "          const dataTable =\n",
              "            await google.colab.kernel.invokeFunction('convertToInteractive',\n",
              "                                                     [key], {});\n",
              "          if (!dataTable) return;\n",
              "\n",
              "          const docLinkHtml = 'Like what you see? Visit the ' +\n",
              "            '<a target=\"_blank\" href=https://colab.research.google.com/notebooks/data_table.ipynb>data table notebook</a>'\n",
              "            + ' to learn more about interactive tables.';\n",
              "          element.innerHTML = '';\n",
              "          dataTable['output_type'] = 'display_data';\n",
              "          await google.colab.output.renderOutput(dataTable, element);\n",
              "          const docLink = document.createElement('div');\n",
              "          docLink.innerHTML = docLinkHtml;\n",
              "          element.appendChild(docLink);\n",
              "        }\n",
              "      </script>\n",
              "    </div>\n",
              "  </div>\n",
              "  "
            ]
          },
          "metadata": {},
          "execution_count": 15
        }
      ]
    },
    {
      "cell_type": "code",
      "source": [
        "df_padel.to_csv('dict_for_padel_descriptors.csv')"
      ],
      "metadata": {
        "id": "kgHIubzp5a8B"
      },
      "execution_count": 12,
      "outputs": []
    }
  ]
}